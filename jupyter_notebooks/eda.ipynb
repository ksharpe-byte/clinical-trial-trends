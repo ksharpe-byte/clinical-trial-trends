{
 "cells": [
  {
   "cell_type": "markdown",
   "id": "701530a4",
   "metadata": {},
   "source": [
    "# EDA - Exploratory Data Analysis in Clinical Trial Trends"
   ]
  },
  {
   "cell_type": "markdown",
   "id": "bcc888af",
   "metadata": {},
   "source": [
    "## Objectives\n",
    "\n",
    "Explore the Clinical Trials dataset to investiagte and carry out the following:\n",
    "\n",
    "- Identify Outliers\n",
    "- Hypothesis Testing\n",
    "- Quantitative Analysis\n",
    "- Qualitative Analysis\n",
    "- Linear Regression"
   ]
  },
  {
   "cell_type": "markdown",
   "id": "c43e6a32",
   "metadata": {},
   "source": [
    "## Inputs\n",
    "\n",
    "- data/outputs/cleaned_clinical_trials.csv"
   ]
  },
  {
   "cell_type": "markdown",
   "id": "6a4d60b0",
   "metadata": {},
   "source": [
    "## Output\n",
    "\n",
    "- data/outputs/cleaned_clinical_trials.csv (Dataset remains unchanged as this notebook focuses on exploratory data analysis.)"
   ]
  }
 ],
 "metadata": {
  "kernelspec": {
   "display_name": ".venv",
   "language": "python",
   "name": "python3"
  },
  "language_info": {
   "name": "python",
   "version": "3.12.8"
  }
 },
 "nbformat": 4,
 "nbformat_minor": 5
}
