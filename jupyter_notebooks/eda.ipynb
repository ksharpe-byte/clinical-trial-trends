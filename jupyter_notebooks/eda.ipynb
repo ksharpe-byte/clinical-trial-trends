{
 "cells": [
  {
   "cell_type": "markdown",
   "id": "701530a4",
   "metadata": {},
   "source": [
    "# EDA - Exploratory Data Analysis in Clinical Trial Trends"
   ]
  },
  {
   "cell_type": "markdown",
   "id": "bcc888af",
   "metadata": {},
   "source": [
    "## Objectives\n",
    "\n",
    "Explore the Clinical Trials dataset to investiagte and carry out the following:\n",
    "\n",
    "- Identify Outliers\n",
    "- Statistical Analysis\n",
    "- Descriptive Analysis\n",
    "- Predictive Analysis\n",
    "- Hypothesis Testing\n",
    "- Qualitative Analysis"
   ]
  },
  {
   "cell_type": "markdown",
   "id": "c43e6a32",
   "metadata": {},
   "source": [
    "## Inputs\n",
    "\n",
    "- data/outputs/cleaned_clinical_trials.csv"
   ]
  },
  {
   "cell_type": "markdown",
   "id": "6a4d60b0",
   "metadata": {},
   "source": [
    "## Output\n",
    "\n",
    "- INSERT UPDATED DATASET HERE"
   ]
  },
  {
   "cell_type": "markdown",
   "id": "11d99569",
   "metadata": {},
   "source": [
    "_______"
   ]
  },
  {
   "cell_type": "markdown",
   "id": "020ae49f",
   "metadata": {},
   "source": [
    "The clinical trials dataset will be loaded into this notebook to conduct bivariate and multivariate analysis. "
   ]
  },
  {
   "cell_type": "markdown",
   "id": "4c36b9f3",
   "metadata": {},
   "source": [
    "The necessary libraries to conduct the analysis will be imported into this notebook."
   ]
  },
  {
   "cell_type": "code",
   "execution_count": null,
   "id": "45239d13",
   "metadata": {},
   "outputs": [],
   "source": [
    "# Import necessary libraries for data analysis and visualization (assistance from CoPilot)\n",
    "import pandas as pd\n",
    "import numpy as np\n",
    "import matplotlib.pyplot as plt\n",
    "import seaborn as sns  \n",
    "import plotly.express as px\n",
    "import plotly.graph_objects as go\n",
    "from scipy import stats\n",
    "from sklearn.preprocessing import StandardScaler, MinMaxScaler\n",
    "from sklearn.manifold import TSNE\n",
    "from sklearn.cluster import DBSCAN\n",
    "from sklearn.feature_extraction.text import TfidfVectorizer"
   ]
  },
  {
   "cell_type": "markdown",
   "id": "60c6aaca",
   "metadata": {},
   "source": [
    "## Descriptive Analysis"
   ]
  },
  {
   "cell_type": "markdown",
   "id": "f60042f2",
   "metadata": {},
   "source": []
  }
 ],
 "metadata": {
  "kernelspec": {
   "display_name": ".venv",
   "language": "python",
   "name": "python3"
  },
  "language_info": {
   "codemirror_mode": {
    "name": "ipython",
    "version": 3
   },
   "file_extension": ".py",
   "mimetype": "text/x-python",
   "name": "python",
   "nbconvert_exporter": "python",
   "pygments_lexer": "ipython3",
   "version": "3.12.8"
  }
 },
 "nbformat": 4,
 "nbformat_minor": 5
}
