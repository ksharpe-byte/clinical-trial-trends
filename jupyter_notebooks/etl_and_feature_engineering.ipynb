{
 "cells": [
  {
   "cell_type": "markdown",
   "id": "84f29588",
   "metadata": {},
   "source": [
    "# ETL - Clinical Trial Trends"
   ]
  },
  {
   "cell_type": "markdown",
   "id": "87871dbd",
   "metadata": {},
   "source": [
    "## Objectives \n",
    "- Extract: To load the CSV file from Kaggle into a Pandas DataFrame\n",
    "- Transform: To handle all missing values, normalise column names, remove duplicates and convert data types.\n",
    "- Load: To save the cleaned dataset into a new CSV file, ready for EDA."
   ]
  },
  {
   "cell_type": "markdown",
   "id": "d94ce52f",
   "metadata": {},
   "source": [
    "## Inputs\n",
    "\n",
    "- Overview Clinical Trial Trends dataset from [Kaggle](https://www.kaggle.com/datasets/thedevastator/a-quick-overview-of-clinical-trials)"
   ]
  },
  {
   "cell_type": "markdown",
   "id": "8cbdf272",
   "metadata": {},
   "source": [
    "## Outputs\n",
    "\n",
    "INSERT CLEANED DATASET"
   ]
  },
  {
   "cell_type": "markdown",
   "id": "ba99bcdf",
   "metadata": {},
   "source": [
    "## Additional Comments\n",
    "\n",
    "- The Clinical Trials dataset gives an overview of clinical trails over the years, from multiple sponsors."
   ]
  },
  {
   "cell_type": "markdown",
   "id": "eda8fa5b",
   "metadata": {},
   "source": [
    "_____"
   ]
  },
  {
   "cell_type": "markdown",
   "id": "7790013a",
   "metadata": {},
   "source": [
    "## Extract - Load and Clean Dataset\n",
    "\n",
    "The clinical trials dataset will be loaded into this notebook, to gain insight into the data and conduct data cleaning."
   ]
  },
  {
   "cell_type": "code",
   "execution_count": 1,
   "id": "5e07ee9b",
   "metadata": {},
   "outputs": [],
   "source": [
    "# Import necessary Python libraries\n",
    "import pandas as pd\n",
    "import numpy as np\n",
    "import matplotlib.pyplot as plt\n",
    "import seaborn as sns"
   ]
  },
  {
   "cell_type": "code",
   "execution_count": 7,
   "id": "b44b5f3d",
   "metadata": {},
   "outputs": [
    {
     "data": {
      "text/html": [
       "<div>\n",
       "<style scoped>\n",
       "    .dataframe tbody tr th:only-of-type {\n",
       "        vertical-align: middle;\n",
       "    }\n",
       "\n",
       "    .dataframe tbody tr th {\n",
       "        vertical-align: top;\n",
       "    }\n",
       "\n",
       "    .dataframe thead th {\n",
       "        text-align: right;\n",
       "    }\n",
       "</style>\n",
       "<table border=\"1\" class=\"dataframe\">\n",
       "  <thead>\n",
       "    <tr style=\"text-align: right;\">\n",
       "      <th></th>\n",
       "      <th>index</th>\n",
       "      <th>NCT</th>\n",
       "      <th>Sponsor</th>\n",
       "      <th>Title</th>\n",
       "      <th>Summary</th>\n",
       "      <th>Start_Year</th>\n",
       "      <th>Start_Month</th>\n",
       "      <th>Phase</th>\n",
       "      <th>Enrollment</th>\n",
       "      <th>Status</th>\n",
       "      <th>Condition</th>\n",
       "    </tr>\n",
       "  </thead>\n",
       "  <tbody>\n",
       "    <tr>\n",
       "      <th>0</th>\n",
       "      <td>0</td>\n",
       "      <td>NCT00003305</td>\n",
       "      <td>Sanofi</td>\n",
       "      <td>A Phase II Trial of Aminopterin in Adults and ...</td>\n",
       "      <td>RATIONALE: Drugs used in chemotherapy use diff...</td>\n",
       "      <td>1997</td>\n",
       "      <td>7</td>\n",
       "      <td>Phase 2</td>\n",
       "      <td>75</td>\n",
       "      <td>Completed</td>\n",
       "      <td>Leukemia</td>\n",
       "    </tr>\n",
       "    <tr>\n",
       "      <th>1</th>\n",
       "      <td>1</td>\n",
       "      <td>NCT00003821</td>\n",
       "      <td>Sanofi</td>\n",
       "      <td>Phase II Trial of Aminopterin in Patients With...</td>\n",
       "      <td>RATIONALE: Drugs used in chemotherapy use diff...</td>\n",
       "      <td>1998</td>\n",
       "      <td>1</td>\n",
       "      <td>Phase 2</td>\n",
       "      <td>0</td>\n",
       "      <td>Withdrawn</td>\n",
       "      <td>Endometrial Neoplasms</td>\n",
       "    </tr>\n",
       "    <tr>\n",
       "      <th>2</th>\n",
       "      <td>2</td>\n",
       "      <td>NCT00004025</td>\n",
       "      <td>Sanofi</td>\n",
       "      <td>Phase I/II Trial of the Safety, Immunogenicity...</td>\n",
       "      <td>RATIONALE: Vaccines made from a person's white...</td>\n",
       "      <td>1999</td>\n",
       "      <td>3</td>\n",
       "      <td>Phase 1/Phase 2</td>\n",
       "      <td>36</td>\n",
       "      <td>Unknown status</td>\n",
       "      <td>Melanoma</td>\n",
       "    </tr>\n",
       "    <tr>\n",
       "      <th>3</th>\n",
       "      <td>3</td>\n",
       "      <td>NCT00005645</td>\n",
       "      <td>Sanofi</td>\n",
       "      <td>Phase II Trial of ILX295501 Administered Orall...</td>\n",
       "      <td>RATIONALE: Drugs used in chemotherapy use diff...</td>\n",
       "      <td>1999</td>\n",
       "      <td>5</td>\n",
       "      <td>Phase 2</td>\n",
       "      <td>0</td>\n",
       "      <td>Withdrawn</td>\n",
       "      <td>Ovarian Neoplasms</td>\n",
       "    </tr>\n",
       "    <tr>\n",
       "      <th>4</th>\n",
       "      <td>4</td>\n",
       "      <td>NCT00008281</td>\n",
       "      <td>Sanofi</td>\n",
       "      <td>A Multicenter, Open-Label, Randomized, Three-A...</td>\n",
       "      <td>RATIONALE: Drugs used in chemotherapy use diff...</td>\n",
       "      <td>2000</td>\n",
       "      <td>10</td>\n",
       "      <td>Phase 3</td>\n",
       "      <td>0</td>\n",
       "      <td>Unknown status</td>\n",
       "      <td>Colorectal Neoplasms</td>\n",
       "    </tr>\n",
       "  </tbody>\n",
       "</table>\n",
       "</div>"
      ],
      "text/plain": [
       "   index          NCT Sponsor  \\\n",
       "0      0  NCT00003305  Sanofi   \n",
       "1      1  NCT00003821  Sanofi   \n",
       "2      2  NCT00004025  Sanofi   \n",
       "3      3  NCT00005645  Sanofi   \n",
       "4      4  NCT00008281  Sanofi   \n",
       "\n",
       "                                               Title  \\\n",
       "0  A Phase II Trial of Aminopterin in Adults and ...   \n",
       "1  Phase II Trial of Aminopterin in Patients With...   \n",
       "2  Phase I/II Trial of the Safety, Immunogenicity...   \n",
       "3  Phase II Trial of ILX295501 Administered Orall...   \n",
       "4  A Multicenter, Open-Label, Randomized, Three-A...   \n",
       "\n",
       "                                             Summary  Start_Year  Start_Month  \\\n",
       "0  RATIONALE: Drugs used in chemotherapy use diff...        1997            7   \n",
       "1  RATIONALE: Drugs used in chemotherapy use diff...        1998            1   \n",
       "2  RATIONALE: Vaccines made from a person's white...        1999            3   \n",
       "3  RATIONALE: Drugs used in chemotherapy use diff...        1999            5   \n",
       "4  RATIONALE: Drugs used in chemotherapy use diff...        2000           10   \n",
       "\n",
       "             Phase  Enrollment          Status              Condition  \n",
       "0          Phase 2          75       Completed               Leukemia  \n",
       "1          Phase 2           0       Withdrawn  Endometrial Neoplasms  \n",
       "2  Phase 1/Phase 2          36  Unknown status               Melanoma  \n",
       "3          Phase 2           0       Withdrawn      Ovarian Neoplasms  \n",
       "4          Phase 3           0  Unknown status   Colorectal Neoplasms  "
      ]
     },
     "execution_count": 7,
     "metadata": {},
     "output_type": "execute_result"
    }
   ],
   "source": [
    "# Load dataset and convert to DataFrame\n",
    "df = pd.read_csv('../data/inputs/raw/AERO-BirdsEye-Data.csv')\n",
    "df.head()"
   ]
  },
  {
   "cell_type": "code",
   "execution_count": null,
   "id": "1e8ba928",
   "metadata": {},
   "outputs": [],
   "source": []
  }
 ],
 "metadata": {
  "kernelspec": {
   "display_name": ".venv",
   "language": "python",
   "name": "python3"
  },
  "language_info": {
   "codemirror_mode": {
    "name": "ipython",
    "version": 3
   },
   "file_extension": ".py",
   "mimetype": "text/x-python",
   "name": "python",
   "nbconvert_exporter": "python",
   "pygments_lexer": "ipython3",
   "version": "3.12.8"
  }
 },
 "nbformat": 4,
 "nbformat_minor": 5
}
