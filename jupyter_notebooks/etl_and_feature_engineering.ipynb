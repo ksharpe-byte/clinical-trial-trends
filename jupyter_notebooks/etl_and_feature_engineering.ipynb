{
 "cells": [
  {
   "cell_type": "markdown",
   "id": "84f29588",
   "metadata": {},
   "source": [
    "# ETL - Clinical Trial Trends"
   ]
  },
  {
   "cell_type": "markdown",
   "id": "87871dbd",
   "metadata": {},
   "source": [
    "## Objectives \n",
    "- Extract: To load the CSV file from Kaggle into a Pandas DataFrame\n",
    "- Transform: To handle all missing values, normalise column names, remove duplicates and convert data types.\n",
    "- Load: To save the cleaned dataset into a new CSV file, ready for EDA."
   ]
  },
  {
   "cell_type": "markdown",
   "id": "d94ce52f",
   "metadata": {},
   "source": [
    "## Inputs\n",
    "\n",
    "- Overview Clinical Trial Trends dataset from [Kaggle](https://www.kaggle.com/datasets/thedevastator/a-quick-overview-of-clinical-trials)"
   ]
  },
  {
   "cell_type": "markdown",
   "id": "8cbdf272",
   "metadata": {},
   "source": [
    "## Outputs\n",
    "\n",
    "INSERT CLEANED DATASET"
   ]
  },
  {
   "cell_type": "markdown",
   "id": "ba99bcdf",
   "metadata": {},
   "source": [
    "## Additional Comments\n",
    "\n",
    "- The Clinical Trials dataset gives an overview of clinical trails over the years, from multiple sponsors."
   ]
  },
  {
   "cell_type": "markdown",
   "id": "eda8fa5b",
   "metadata": {},
   "source": [
    "_____"
   ]
  },
  {
   "cell_type": "markdown",
   "id": "7790013a",
   "metadata": {},
   "source": [
    "## Extract - Load and Clean Dataset\n",
    "\n",
    "The clinical trials dataset will be loaded into this notebook, to gain insight into the data and conduct data cleaning."
   ]
  },
  {
   "cell_type": "code",
   "execution_count": 40,
   "id": "5e07ee9b",
   "metadata": {},
   "outputs": [],
   "source": [
    "# Import necessary Python libraries\n",
    "import pandas as pd\n",
    "import numpy as np\n",
    "import matplotlib.pyplot as plt\n",
    "import seaborn as sns"
   ]
  },
  {
   "cell_type": "code",
   "execution_count": 41,
   "id": "b44b5f3d",
   "metadata": {},
   "outputs": [
    {
     "data": {
      "text/html": [
       "<div>\n",
       "<style scoped>\n",
       "    .dataframe tbody tr th:only-of-type {\n",
       "        vertical-align: middle;\n",
       "    }\n",
       "\n",
       "    .dataframe tbody tr th {\n",
       "        vertical-align: top;\n",
       "    }\n",
       "\n",
       "    .dataframe thead th {\n",
       "        text-align: right;\n",
       "    }\n",
       "</style>\n",
       "<table border=\"1\" class=\"dataframe\">\n",
       "  <thead>\n",
       "    <tr style=\"text-align: right;\">\n",
       "      <th></th>\n",
       "      <th>index</th>\n",
       "      <th>NCT</th>\n",
       "      <th>Sponsor</th>\n",
       "      <th>Title</th>\n",
       "      <th>Summary</th>\n",
       "      <th>Start_Year</th>\n",
       "      <th>Start_Month</th>\n",
       "      <th>Phase</th>\n",
       "      <th>Enrollment</th>\n",
       "      <th>Status</th>\n",
       "      <th>Condition</th>\n",
       "    </tr>\n",
       "  </thead>\n",
       "  <tbody>\n",
       "    <tr>\n",
       "      <th>0</th>\n",
       "      <td>0</td>\n",
       "      <td>NCT00003305</td>\n",
       "      <td>Sanofi</td>\n",
       "      <td>A Phase II Trial of Aminopterin in Adults and ...</td>\n",
       "      <td>RATIONALE: Drugs used in chemotherapy use diff...</td>\n",
       "      <td>1997</td>\n",
       "      <td>7</td>\n",
       "      <td>Phase 2</td>\n",
       "      <td>75</td>\n",
       "      <td>Completed</td>\n",
       "      <td>Leukemia</td>\n",
       "    </tr>\n",
       "    <tr>\n",
       "      <th>1</th>\n",
       "      <td>1</td>\n",
       "      <td>NCT00003821</td>\n",
       "      <td>Sanofi</td>\n",
       "      <td>Phase II Trial of Aminopterin in Patients With...</td>\n",
       "      <td>RATIONALE: Drugs used in chemotherapy use diff...</td>\n",
       "      <td>1998</td>\n",
       "      <td>1</td>\n",
       "      <td>Phase 2</td>\n",
       "      <td>0</td>\n",
       "      <td>Withdrawn</td>\n",
       "      <td>Endometrial Neoplasms</td>\n",
       "    </tr>\n",
       "    <tr>\n",
       "      <th>2</th>\n",
       "      <td>2</td>\n",
       "      <td>NCT00004025</td>\n",
       "      <td>Sanofi</td>\n",
       "      <td>Phase I/II Trial of the Safety, Immunogenicity...</td>\n",
       "      <td>RATIONALE: Vaccines made from a person's white...</td>\n",
       "      <td>1999</td>\n",
       "      <td>3</td>\n",
       "      <td>Phase 1/Phase 2</td>\n",
       "      <td>36</td>\n",
       "      <td>Unknown status</td>\n",
       "      <td>Melanoma</td>\n",
       "    </tr>\n",
       "    <tr>\n",
       "      <th>3</th>\n",
       "      <td>3</td>\n",
       "      <td>NCT00005645</td>\n",
       "      <td>Sanofi</td>\n",
       "      <td>Phase II Trial of ILX295501 Administered Orall...</td>\n",
       "      <td>RATIONALE: Drugs used in chemotherapy use diff...</td>\n",
       "      <td>1999</td>\n",
       "      <td>5</td>\n",
       "      <td>Phase 2</td>\n",
       "      <td>0</td>\n",
       "      <td>Withdrawn</td>\n",
       "      <td>Ovarian Neoplasms</td>\n",
       "    </tr>\n",
       "    <tr>\n",
       "      <th>4</th>\n",
       "      <td>4</td>\n",
       "      <td>NCT00008281</td>\n",
       "      <td>Sanofi</td>\n",
       "      <td>A Multicenter, Open-Label, Randomized, Three-A...</td>\n",
       "      <td>RATIONALE: Drugs used in chemotherapy use diff...</td>\n",
       "      <td>2000</td>\n",
       "      <td>10</td>\n",
       "      <td>Phase 3</td>\n",
       "      <td>0</td>\n",
       "      <td>Unknown status</td>\n",
       "      <td>Colorectal Neoplasms</td>\n",
       "    </tr>\n",
       "  </tbody>\n",
       "</table>\n",
       "</div>"
      ],
      "text/plain": [
       "   index          NCT Sponsor  \\\n",
       "0      0  NCT00003305  Sanofi   \n",
       "1      1  NCT00003821  Sanofi   \n",
       "2      2  NCT00004025  Sanofi   \n",
       "3      3  NCT00005645  Sanofi   \n",
       "4      4  NCT00008281  Sanofi   \n",
       "\n",
       "                                               Title  \\\n",
       "0  A Phase II Trial of Aminopterin in Adults and ...   \n",
       "1  Phase II Trial of Aminopterin in Patients With...   \n",
       "2  Phase I/II Trial of the Safety, Immunogenicity...   \n",
       "3  Phase II Trial of ILX295501 Administered Orall...   \n",
       "4  A Multicenter, Open-Label, Randomized, Three-A...   \n",
       "\n",
       "                                             Summary  Start_Year  Start_Month  \\\n",
       "0  RATIONALE: Drugs used in chemotherapy use diff...        1997            7   \n",
       "1  RATIONALE: Drugs used in chemotherapy use diff...        1998            1   \n",
       "2  RATIONALE: Vaccines made from a person's white...        1999            3   \n",
       "3  RATIONALE: Drugs used in chemotherapy use diff...        1999            5   \n",
       "4  RATIONALE: Drugs used in chemotherapy use diff...        2000           10   \n",
       "\n",
       "             Phase  Enrollment          Status              Condition  \n",
       "0          Phase 2          75       Completed               Leukemia  \n",
       "1          Phase 2           0       Withdrawn  Endometrial Neoplasms  \n",
       "2  Phase 1/Phase 2          36  Unknown status               Melanoma  \n",
       "3          Phase 2           0       Withdrawn      Ovarian Neoplasms  \n",
       "4          Phase 3           0  Unknown status   Colorectal Neoplasms  "
      ]
     },
     "execution_count": 41,
     "metadata": {},
     "output_type": "execute_result"
    }
   ],
   "source": [
    "# Load dataset and convert to DataFrame\n",
    "df = pd.read_csv('../data/inputs/raw/clinical_trials.csv')\n",
    "df.head()"
   ]
  },
  {
   "cell_type": "code",
   "execution_count": 42,
   "id": "1e8ba928",
   "metadata": {},
   "outputs": [
    {
     "data": {
      "text/plain": [
       "(13748, 11)"
      ]
     },
     "execution_count": 42,
     "metadata": {},
     "output_type": "execute_result"
    }
   ],
   "source": [
    "# Investigate the size of the dataset\n",
    "df.shape"
   ]
  },
  {
   "cell_type": "code",
   "execution_count": 84,
   "id": "72a3acf0",
   "metadata": {},
   "outputs": [],
   "source": [
    "import os\n",
    "\n",
    "# Ensure the output directory exists (assistance from CoPilot)\n",
    "output_dir = '../data/outputs'\n",
    "os.makedirs(output_dir, exist_ok=True)"
   ]
  },
  {
   "cell_type": "code",
   "execution_count": 54,
   "id": "27372f33",
   "metadata": {},
   "outputs": [
    {
     "data": {
      "text/html": [
       "<div>\n",
       "<style scoped>\n",
       "    .dataframe tbody tr th:only-of-type {\n",
       "        vertical-align: middle;\n",
       "    }\n",
       "\n",
       "    .dataframe tbody tr th {\n",
       "        vertical-align: top;\n",
       "    }\n",
       "\n",
       "    .dataframe thead th {\n",
       "        text-align: right;\n",
       "    }\n",
       "</style>\n",
       "<table border=\"1\" class=\"dataframe\">\n",
       "  <thead>\n",
       "    <tr style=\"text-align: right;\">\n",
       "      <th></th>\n",
       "      <th>index</th>\n",
       "      <th>NCT</th>\n",
       "      <th>Sponsor</th>\n",
       "      <th>Title</th>\n",
       "      <th>Summary</th>\n",
       "      <th>Start_Year</th>\n",
       "      <th>Start_Month</th>\n",
       "      <th>Phase</th>\n",
       "      <th>Enrollment</th>\n",
       "      <th>Status</th>\n",
       "      <th>Condition</th>\n",
       "    </tr>\n",
       "  </thead>\n",
       "  <tbody>\n",
       "    <tr>\n",
       "      <th>8746</th>\n",
       "      <td>8746</td>\n",
       "      <td>NCT00442871</td>\n",
       "      <td>GSK</td>\n",
       "      <td>An Open-Label, Non-Randomized Pharmacokinetic ...</td>\n",
       "      <td>The main purpose of this study is to compare h...</td>\n",
       "      <td>2006</td>\n",
       "      <td>9</td>\n",
       "      <td>Phase 1</td>\n",
       "      <td>29</td>\n",
       "      <td>Completed</td>\n",
       "      <td>Purpura, Thrombocytopenic, Idiopathic</td>\n",
       "    </tr>\n",
       "    <tr>\n",
       "      <th>1499</th>\n",
       "      <td>1499</td>\n",
       "      <td>NCT03600805</td>\n",
       "      <td>Sanofi</td>\n",
       "      <td>A Randomized, Double-blind, Placebo-controlled...</td>\n",
       "      <td>Primary Objective: To evaluate the efficacy of...</td>\n",
       "      <td>2018</td>\n",
       "      <td>11</td>\n",
       "      <td>Phase 3</td>\n",
       "      <td>360</td>\n",
       "      <td>Recruiting</td>\n",
       "      <td>Giant Cell Arteritis</td>\n",
       "    </tr>\n",
       "    <tr>\n",
       "      <th>2132</th>\n",
       "      <td>2132</td>\n",
       "      <td>NCT00408954</td>\n",
       "      <td>Pfizer</td>\n",
       "      <td>A Multi Center Randomized Cross Over Double Bl...</td>\n",
       "      <td>This is a pilot study to generate hypotheses a...</td>\n",
       "      <td>2007</td>\n",
       "      <td>3</td>\n",
       "      <td>Phase 2</td>\n",
       "      <td>27</td>\n",
       "      <td>Completed</td>\n",
       "      <td>Prostatic Hyperplasia</td>\n",
       "    </tr>\n",
       "    <tr>\n",
       "      <th>4422</th>\n",
       "      <td>4422</td>\n",
       "      <td>NCT00785083</td>\n",
       "      <td>Novartis</td>\n",
       "      <td>A Double-blind, Randomized, Placebo-controlled...</td>\n",
       "      <td>This study will evaluate the effect of FTY720 ...</td>\n",
       "      <td>2008</td>\n",
       "      <td>9</td>\n",
       "      <td>Phase 2</td>\n",
       "      <td>36</td>\n",
       "      <td>Completed</td>\n",
       "      <td>Asthma</td>\n",
       "    </tr>\n",
       "    <tr>\n",
       "      <th>5352</th>\n",
       "      <td>5352</td>\n",
       "      <td>NCT02047656</td>\n",
       "      <td>Novartis</td>\n",
       "      <td>A Two Part Study Including a Randomized, Doubl...</td>\n",
       "      <td>This study is designed to enable optimal dose ...</td>\n",
       "      <td>2013</td>\n",
       "      <td>8</td>\n",
       "      <td>Phase 1</td>\n",
       "      <td>93</td>\n",
       "      <td>Terminated</td>\n",
       "      <td>Hypertension</td>\n",
       "    </tr>\n",
       "  </tbody>\n",
       "</table>\n",
       "</div>"
      ],
      "text/plain": [
       "      index          NCT   Sponsor  \\\n",
       "8746   8746  NCT00442871       GSK   \n",
       "1499   1499  NCT03600805    Sanofi   \n",
       "2132   2132  NCT00408954    Pfizer   \n",
       "4422   4422  NCT00785083  Novartis   \n",
       "5352   5352  NCT02047656  Novartis   \n",
       "\n",
       "                                                  Title  \\\n",
       "8746  An Open-Label, Non-Randomized Pharmacokinetic ...   \n",
       "1499  A Randomized, Double-blind, Placebo-controlled...   \n",
       "2132  A Multi Center Randomized Cross Over Double Bl...   \n",
       "4422  A Double-blind, Randomized, Placebo-controlled...   \n",
       "5352  A Two Part Study Including a Randomized, Doubl...   \n",
       "\n",
       "                                                Summary  Start_Year  \\\n",
       "8746  The main purpose of this study is to compare h...        2006   \n",
       "1499  Primary Objective: To evaluate the efficacy of...        2018   \n",
       "2132  This is a pilot study to generate hypotheses a...        2007   \n",
       "4422  This study will evaluate the effect of FTY720 ...        2008   \n",
       "5352  This study is designed to enable optimal dose ...        2013   \n",
       "\n",
       "      Start_Month    Phase  Enrollment      Status  \\\n",
       "8746            9  Phase 1          29   Completed   \n",
       "1499           11  Phase 3         360  Recruiting   \n",
       "2132            3  Phase 2          27   Completed   \n",
       "4422            9  Phase 2          36   Completed   \n",
       "5352            8  Phase 1          93  Terminated   \n",
       "\n",
       "                                  Condition  \n",
       "8746  Purpura, Thrombocytopenic, Idiopathic  \n",
       "1499                   Giant Cell Arteritis  \n",
       "2132                  Prostatic Hyperplasia  \n",
       "4422                                 Asthma  \n",
       "5352                           Hypertension  "
      ]
     },
     "execution_count": 54,
     "metadata": {},
     "output_type": "execute_result"
    }
   ],
   "source": [
    "# Take a random sample of 10,000 entries and overwrite the original DataFrame\n",
    "df = df.sample(n=10000, random_state=28)\n",
    "\n",
    "# Display the first few rows of the sampled dataset\n",
    "df.head()"
   ]
  },
  {
   "cell_type": "code",
   "execution_count": 61,
   "id": "c65444d8",
   "metadata": {},
   "outputs": [
    {
     "data": {
      "text/plain": [
       "(10000, 10)"
      ]
     },
     "execution_count": 61,
     "metadata": {},
     "output_type": "execute_result"
    }
   ],
   "source": [
    "# Check dataframe has been sampled correctly\n",
    "df.shape"
   ]
  },
  {
   "cell_type": "markdown",
   "id": "28740a5c",
   "metadata": {},
   "source": [
    "The sampled dataset will now be investigated and cleaned"
   ]
  },
  {
   "cell_type": "code",
   "execution_count": null,
   "id": "6a8e17ea",
   "metadata": {},
   "outputs": [],
   "source": [
    "# Remove duplicated index column by name\n",
    "df = df.drop(columns=['index'])"
   ]
  },
  {
   "cell_type": "code",
   "execution_count": 62,
   "id": "943c15fa",
   "metadata": {},
   "outputs": [
    {
     "data": {
      "text/plain": [
       "Index(['NCT', 'Sponsor', 'Title', 'Summary', 'Start_Year', 'Start_Month',\n",
       "       'Phase', 'Enrollment', 'Status', 'Condition'],\n",
       "      dtype='object')"
      ]
     },
     "execution_count": 62,
     "metadata": {},
     "output_type": "execute_result"
    }
   ],
   "source": [
    "# Check duplicated index column has been removed\n",
    "df.columns"
   ]
  },
  {
   "cell_type": "code",
   "execution_count": 65,
   "id": "5063ee59",
   "metadata": {},
   "outputs": [
    {
     "data": {
      "text/plain": [
       "NCT            object\n",
       "Sponsor        object\n",
       "Title          object\n",
       "Summary        object\n",
       "Start_Year      int64\n",
       "Start_Month     int64\n",
       "Phase          object\n",
       "Enrollment      int64\n",
       "Status         object\n",
       "Condition      object\n",
       "dtype: object"
      ]
     },
     "execution_count": 65,
     "metadata": {},
     "output_type": "execute_result"
    }
   ],
   "source": [
    "# Check proprerties of columns\n",
    "df.dtypes"
   ]
  },
  {
   "cell_type": "code",
   "execution_count": 70,
   "id": "035d9bc6",
   "metadata": {},
   "outputs": [
    {
     "name": "stdout",
     "output_type": "stream",
     "text": [
      "NCT              0\n",
      "Sponsor          0\n",
      "Title          101\n",
      "Summary          0\n",
      "Start_Year       0\n",
      "Start_Month      0\n",
      "Phase          198\n",
      "Enrollment       0\n",
      "Status           0\n",
      "Condition        0\n",
      "dtype: int64\n"
     ]
    }
   ],
   "source": [
    "# Check for missing values in each column\n",
    "missing_values = df.isnull().sum()\n",
    "print(missing_values)"
   ]
  },
  {
   "cell_type": "markdown",
   "id": "4d2f648d",
   "metadata": {},
   "source": [
    "Rows with missing values equate for approx. 2% of the dataset so there isn't a significant dataloss. "
   ]
  },
  {
   "cell_type": "code",
   "execution_count": 83,
   "id": "39d19823",
   "metadata": {},
   "outputs": [
    {
     "name": "stdout",
     "output_type": "stream",
     "text": [
      "NCT            0\n",
      "Sponsor        0\n",
      "Title          0\n",
      "Summary        0\n",
      "Start_Year     0\n",
      "Start_Month    0\n",
      "Phase          0\n",
      "Enrollment     0\n",
      "Status         0\n",
      "Condition      0\n",
      "dtype: int64\n"
     ]
    }
   ],
   "source": [
    "# Remove rows with any missing values (assistance from CoPilot)\n",
    "df = df.dropna()\n",
    "\n",
    "# Verify the changes\n",
    "print(df.isnull().sum())"
   ]
  },
  {
   "cell_type": "code",
   "execution_count": 82,
   "id": "6a55cf86",
   "metadata": {},
   "outputs": [
    {
     "name": "stdout",
     "output_type": "stream",
     "text": [
      "Are there any duplicate rows? False\n"
     ]
    }
   ],
   "source": [
    "# Check if there are any duplicate rows (assistance from CoPilot)\n",
    "duplicates = df.duplicated()\n",
    "print(\"Are there any duplicate rows?\", duplicates.any())"
   ]
  },
  {
   "cell_type": "markdown",
   "id": "863914ed",
   "metadata": {},
   "source": [
    "NCT - represents the National Clinical Trial number, which doesn't serve a purpose for the analysis so it will be removed. "
   ]
  },
  {
   "cell_type": "code",
   "execution_count": 87,
   "id": "c03c8d68",
   "metadata": {},
   "outputs": [],
   "source": [
    "# Drop NCT column as it does not serve a purpose for the analysis\n",
    "df = df.drop(columns=['NCT'])"
   ]
  },
  {
   "cell_type": "code",
   "execution_count": 88,
   "id": "244a87d9",
   "metadata": {},
   "outputs": [
    {
     "name": "stdout",
     "output_type": "stream",
     "text": [
      "<class 'pandas.core.frame.DataFrame'>\n",
      "Index: 9719 entries, 8746 to 5735\n",
      "Data columns (total 9 columns):\n",
      " #   Column       Non-Null Count  Dtype \n",
      "---  ------       --------------  ----- \n",
      " 0   Sponsor      9719 non-null   object\n",
      " 1   Title        9719 non-null   object\n",
      " 2   Summary      9719 non-null   object\n",
      " 3   Start_Year   9719 non-null   int64 \n",
      " 4   Start_Month  9719 non-null   int64 \n",
      " 5   Phase        9719 non-null   object\n",
      " 6   Enrollment   9719 non-null   int64 \n",
      " 7   Status       9719 non-null   object\n",
      " 8   Condition    9719 non-null   object\n",
      "dtypes: int64(3), object(6)\n",
      "memory usage: 759.3+ KB\n"
     ]
    }
   ],
   "source": [
    "# Check the DataFrame info to confirm changes\n",
    "df.info()"
   ]
  },
  {
   "cell_type": "markdown",
   "id": "fa7e92b1",
   "metadata": {},
   "source": [
    "## Transform - Feature Engineering\n",
    "\n",
    "Feature engineering will be carried out on the dataset, so its enhanced for visualisations."
   ]
  },
  {
   "cell_type": "markdown",
   "id": "f48a5a55",
   "metadata": {},
   "source": [
    "Create new columns to increase clarity of specific features of the dataset to all audiences.\n",
    "\n",
    "- Start_Month_Name = Month name when the Clinical Trial began\n",
    "- Start_Year_Period = Time period when Clinical Trial began, categorised by 5 year increments.\n",
    "- Enrollment_Group = The total number of Clinical Trial participants enrolled fall within that range."
   ]
  },
  {
   "cell_type": "code",
   "execution_count": 92,
   "id": "600f34aa",
   "metadata": {},
   "outputs": [
    {
     "data": {
      "text/html": [
       "<div>\n",
       "<style scoped>\n",
       "    .dataframe tbody tr th:only-of-type {\n",
       "        vertical-align: middle;\n",
       "    }\n",
       "\n",
       "    .dataframe tbody tr th {\n",
       "        vertical-align: top;\n",
       "    }\n",
       "\n",
       "    .dataframe thead th {\n",
       "        text-align: right;\n",
       "    }\n",
       "</style>\n",
       "<table border=\"1\" class=\"dataframe\">\n",
       "  <thead>\n",
       "    <tr style=\"text-align: right;\">\n",
       "      <th></th>\n",
       "      <th>Start_Month</th>\n",
       "      <th>Start_Month_Name</th>\n",
       "    </tr>\n",
       "  </thead>\n",
       "  <tbody>\n",
       "    <tr>\n",
       "      <th>8746</th>\n",
       "      <td>9</td>\n",
       "      <td>September</td>\n",
       "    </tr>\n",
       "    <tr>\n",
       "      <th>1499</th>\n",
       "      <td>11</td>\n",
       "      <td>November</td>\n",
       "    </tr>\n",
       "    <tr>\n",
       "      <th>2132</th>\n",
       "      <td>3</td>\n",
       "      <td>March</td>\n",
       "    </tr>\n",
       "    <tr>\n",
       "      <th>4422</th>\n",
       "      <td>9</td>\n",
       "      <td>September</td>\n",
       "    </tr>\n",
       "    <tr>\n",
       "      <th>5352</th>\n",
       "      <td>8</td>\n",
       "      <td>August</td>\n",
       "    </tr>\n",
       "  </tbody>\n",
       "</table>\n",
       "</div>"
      ],
      "text/plain": [
       "      Start_Month Start_Month_Name\n",
       "8746            9        September\n",
       "1499           11         November\n",
       "2132            3            March\n",
       "4422            9        September\n",
       "5352            8           August"
      ]
     },
     "execution_count": 92,
     "metadata": {},
     "output_type": "execute_result"
    }
   ],
   "source": [
    "# Import the calendar module to convert month numbers to names\n",
    "import calendar\n",
    "\n",
    "# Column is named 'Start_Month' and contains numbers 1-12 (assistance from CoPilot)\n",
    "df['Start_Month_Name'] = df['Start_Month'].apply(lambda x: calendar.month_name[x])\n",
    "\n",
    "# Display the first few rows to verify the change (assistance from CoPilot)\n",
    "df[['Start_Month', 'Start_Month_Name']].head()"
   ]
  },
  {
   "cell_type": "code",
   "execution_count": null,
   "id": "b708492a",
   "metadata": {},
   "outputs": [],
   "source": []
  }
 ],
 "metadata": {
  "kernelspec": {
   "display_name": ".venv",
   "language": "python",
   "name": "python3"
  },
  "language_info": {
   "codemirror_mode": {
    "name": "ipython",
    "version": 3
   },
   "file_extension": ".py",
   "mimetype": "text/x-python",
   "name": "python",
   "nbconvert_exporter": "python",
   "pygments_lexer": "ipython3",
   "version": "3.12.8"
  }
 },
 "nbformat": 4,
 "nbformat_minor": 5
}
