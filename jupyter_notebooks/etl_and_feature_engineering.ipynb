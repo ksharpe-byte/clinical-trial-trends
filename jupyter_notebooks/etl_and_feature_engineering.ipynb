{
 "cells": [
  {
   "cell_type": "markdown",
   "id": "84f29588",
   "metadata": {},
   "source": [
    "# ETL - Clinical Trial Trends"
   ]
  },
  {
   "cell_type": "markdown",
   "id": "87871dbd",
   "metadata": {},
   "source": [
    "## Objectives \n",
    "- Extract: To load the CSV file from Kaggle into a Pandas DataFrame\n",
    "- Transform: To handle all missing values, normalise column names, remove duplicates and convert data types.\n",
    "- Load: To save the cleaned dataset into a new CSV file, ready for EDA."
   ]
  },
  {
   "cell_type": "markdown",
   "id": "d94ce52f",
   "metadata": {},
   "source": []
  }
 ],
 "metadata": {
  "kernelspec": {
   "display_name": ".venv",
   "language": "python",
   "name": "python3"
  },
  "language_info": {
   "name": "python",
   "version": "3.12.8"
  }
 },
 "nbformat": 4,
 "nbformat_minor": 5
}
